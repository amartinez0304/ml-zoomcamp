{
 "cells": [
  {
   "cell_type": "markdown",
   "id": "7f94dc2f-0525-41f1-8b60-efee8bc2a3df",
   "metadata": {},
   "source": [
    "# Homework 1 - Introduction to Machine Learning #"
   ]
  },
  {
   "cell_type": "code",
   "execution_count": 1,
   "id": "17b28329-8491-4456-acfb-9868f5669d84",
   "metadata": {},
   "outputs": [],
   "source": [
    "import pandas as pd"
   ]
  },
  {
   "cell_type": "code",
   "execution_count": 2,
   "id": "123ec7a5-5dbb-425a-aed9-6f944101ac7d",
   "metadata": {},
   "outputs": [
    {
     "name": "stdout",
     "output_type": "stream",
     "text": [
      "2.2.2\n"
     ]
    }
   ],
   "source": [
    "print(pd.__version__)"
   ]
  },
  {
   "cell_type": "code",
   "execution_count": 3,
   "id": "86836eec-1fa1-4610-b8d3-ec1ff96f53ee",
   "metadata": {},
   "outputs": [],
   "source": [
    "laptops = pd.read_csv(\"./data/laptops.csv\")"
   ]
  },
  {
   "cell_type": "code",
   "execution_count": 4,
   "id": "f1350c09-0583-4244-9217-b433b367f8ac",
   "metadata": {},
   "outputs": [
    {
     "name": "stdout",
     "output_type": "stream",
     "text": [
      "Laptop          2160\n",
      "Status          2160\n",
      "Brand           2160\n",
      "Model           2160\n",
      "CPU             2160\n",
      "RAM             2160\n",
      "Storage         2160\n",
      "Storage type    2118\n",
      "GPU              789\n",
      "Screen          2156\n",
      "Touch           2160\n",
      "Final Price     2160\n",
      "dtype: int64\n"
     ]
    }
   ],
   "source": [
    "print(laptops.count())"
   ]
  },
  {
   "cell_type": "code",
   "execution_count": 5,
   "id": "b1d3a875-ab33-43d1-96ec-32106e8587d2",
   "metadata": {},
   "outputs": [
    {
     "name": "stdout",
     "output_type": "stream",
     "text": [
      "2160\n",
      "12\n"
     ]
    }
   ],
   "source": [
    "print(laptops.shape[0])\n",
    "print(laptops.shape[1])"
   ]
  },
  {
   "cell_type": "code",
   "execution_count": 6,
   "id": "64dd18bf-df91-414d-b6f0-34e0e0cc1433",
   "metadata": {},
   "outputs": [
    {
     "name": "stdout",
     "output_type": "stream",
     "text": [
      "27\n"
     ]
    }
   ],
   "source": [
    "print(laptops[\"Brand\"].nunique())"
   ]
  },
  {
   "cell_type": "code",
   "execution_count": 7,
   "id": "9a18e862-0eb4-4f2e-a290-c338bb33a0ed",
   "metadata": {},
   "outputs": [
    {
     "data": {
      "text/plain": [
       "Laptop             0\n",
       "Status             0\n",
       "Brand              0\n",
       "Model              0\n",
       "CPU                0\n",
       "RAM                0\n",
       "Storage            0\n",
       "Storage type      42\n",
       "GPU             1371\n",
       "Screen             4\n",
       "Touch              0\n",
       "Final Price        0\n",
       "dtype: int64"
      ]
     },
     "execution_count": 7,
     "metadata": {},
     "output_type": "execute_result"
    }
   ],
   "source": [
    "laptops.isnull().sum()"
   ]
  },
  {
   "cell_type": "code",
   "execution_count": 8,
   "id": "9c603846-5331-4b40-942c-56abbd02632a",
   "metadata": {},
   "outputs": [
    {
     "data": {
      "text/html": [
       "<div>\n",
       "<style scoped>\n",
       "    .dataframe tbody tr th:only-of-type {\n",
       "        vertical-align: middle;\n",
       "    }\n",
       "\n",
       "    .dataframe tbody tr th {\n",
       "        vertical-align: top;\n",
       "    }\n",
       "\n",
       "    .dataframe thead th {\n",
       "        text-align: right;\n",
       "    }\n",
       "</style>\n",
       "<table border=\"1\" class=\"dataframe\">\n",
       "  <thead>\n",
       "    <tr style=\"text-align: right;\">\n",
       "      <th></th>\n",
       "      <th>Laptop</th>\n",
       "      <th>Status</th>\n",
       "      <th>Brand</th>\n",
       "      <th>Model</th>\n",
       "      <th>CPU</th>\n",
       "      <th>RAM</th>\n",
       "      <th>Storage</th>\n",
       "      <th>Storage type</th>\n",
       "      <th>GPU</th>\n",
       "      <th>Screen</th>\n",
       "      <th>Touch</th>\n",
       "      <th>Final Price</th>\n",
       "    </tr>\n",
       "  </thead>\n",
       "  <tbody>\n",
       "    <tr>\n",
       "      <th>0</th>\n",
       "      <td>ASUS ExpertBook B1 B1502CBA-EJ0436X Intel Core...</td>\n",
       "      <td>New</td>\n",
       "      <td>Asus</td>\n",
       "      <td>ExpertBook</td>\n",
       "      <td>Intel Core i5</td>\n",
       "      <td>8</td>\n",
       "      <td>512</td>\n",
       "      <td>SSD</td>\n",
       "      <td>NaN</td>\n",
       "      <td>15.6</td>\n",
       "      <td>No</td>\n",
       "      <td>1009.00</td>\n",
       "    </tr>\n",
       "    <tr>\n",
       "      <th>1</th>\n",
       "      <td>Alurin Go Start Intel Celeron N4020/8GB/256GB ...</td>\n",
       "      <td>New</td>\n",
       "      <td>Alurin</td>\n",
       "      <td>Go</td>\n",
       "      <td>Intel Celeron</td>\n",
       "      <td>8</td>\n",
       "      <td>256</td>\n",
       "      <td>SSD</td>\n",
       "      <td>NaN</td>\n",
       "      <td>15.6</td>\n",
       "      <td>No</td>\n",
       "      <td>299.00</td>\n",
       "    </tr>\n",
       "    <tr>\n",
       "      <th>2</th>\n",
       "      <td>ASUS ExpertBook B1 B1502CBA-EJ0424X Intel Core...</td>\n",
       "      <td>New</td>\n",
       "      <td>Asus</td>\n",
       "      <td>ExpertBook</td>\n",
       "      <td>Intel Core i3</td>\n",
       "      <td>8</td>\n",
       "      <td>256</td>\n",
       "      <td>SSD</td>\n",
       "      <td>NaN</td>\n",
       "      <td>15.6</td>\n",
       "      <td>No</td>\n",
       "      <td>789.00</td>\n",
       "    </tr>\n",
       "    <tr>\n",
       "      <th>3</th>\n",
       "      <td>MSI Katana GF66 12UC-082XES Intel Core i7-1270...</td>\n",
       "      <td>New</td>\n",
       "      <td>MSI</td>\n",
       "      <td>Katana</td>\n",
       "      <td>Intel Core i7</td>\n",
       "      <td>16</td>\n",
       "      <td>1000</td>\n",
       "      <td>SSD</td>\n",
       "      <td>RTX 3050</td>\n",
       "      <td>15.6</td>\n",
       "      <td>No</td>\n",
       "      <td>1199.00</td>\n",
       "    </tr>\n",
       "    <tr>\n",
       "      <th>4</th>\n",
       "      <td>HP 15S-FQ5085NS Intel Core i5-1235U/16GB/512GB...</td>\n",
       "      <td>New</td>\n",
       "      <td>HP</td>\n",
       "      <td>15S</td>\n",
       "      <td>Intel Core i5</td>\n",
       "      <td>16</td>\n",
       "      <td>512</td>\n",
       "      <td>SSD</td>\n",
       "      <td>NaN</td>\n",
       "      <td>15.6</td>\n",
       "      <td>No</td>\n",
       "      <td>669.01</td>\n",
       "    </tr>\n",
       "    <tr>\n",
       "      <th>5</th>\n",
       "      <td>MSI Crosshair 17 C12VF-264XES Intel Core i7-12...</td>\n",
       "      <td>New</td>\n",
       "      <td>MSI</td>\n",
       "      <td>Crosshair</td>\n",
       "      <td>Intel Core i7</td>\n",
       "      <td>32</td>\n",
       "      <td>1000</td>\n",
       "      <td>SSD</td>\n",
       "      <td>RTX 4060</td>\n",
       "      <td>17.3</td>\n",
       "      <td>No</td>\n",
       "      <td>1699.00</td>\n",
       "    </tr>\n",
       "    <tr>\n",
       "      <th>6</th>\n",
       "      <td>Lenovo Thinkpad E14 Gen 4 AMD Ryzen 5 5625U/8G...</td>\n",
       "      <td>New</td>\n",
       "      <td>Lenovo</td>\n",
       "      <td>ThinkPad</td>\n",
       "      <td>AMD Ryzen 5</td>\n",
       "      <td>8</td>\n",
       "      <td>256</td>\n",
       "      <td>SSD</td>\n",
       "      <td>NaN</td>\n",
       "      <td>14.0</td>\n",
       "      <td>No</td>\n",
       "      <td>909.00</td>\n",
       "    </tr>\n",
       "    <tr>\n",
       "      <th>7</th>\n",
       "      <td>ASUS VivoBook 15 F515JA-EJ2882W Intel Core i7-...</td>\n",
       "      <td>New</td>\n",
       "      <td>Asus</td>\n",
       "      <td>VivoBook</td>\n",
       "      <td>Intel Core i7</td>\n",
       "      <td>8</td>\n",
       "      <td>512</td>\n",
       "      <td>SSD</td>\n",
       "      <td>NaN</td>\n",
       "      <td>15.6</td>\n",
       "      <td>No</td>\n",
       "      <td>809.01</td>\n",
       "    </tr>\n",
       "    <tr>\n",
       "      <th>8</th>\n",
       "      <td>Medion Akoya E15415 Intel Core i5-10210U/8GB/2...</td>\n",
       "      <td>New</td>\n",
       "      <td>Medion</td>\n",
       "      <td>Akoya</td>\n",
       "      <td>Intel Core i5</td>\n",
       "      <td>8</td>\n",
       "      <td>256</td>\n",
       "      <td>SSD</td>\n",
       "      <td>NaN</td>\n",
       "      <td>15.6</td>\n",
       "      <td>No</td>\n",
       "      <td>519.00</td>\n",
       "    </tr>\n",
       "    <tr>\n",
       "      <th>9</th>\n",
       "      <td>HP Victus 16-d1038ns Intel Core i7-12700H/16GB...</td>\n",
       "      <td>New</td>\n",
       "      <td>HP</td>\n",
       "      <td>Victus</td>\n",
       "      <td>Intel Core i7</td>\n",
       "      <td>16</td>\n",
       "      <td>512</td>\n",
       "      <td>SSD</td>\n",
       "      <td>RTX 3050</td>\n",
       "      <td>16.1</td>\n",
       "      <td>No</td>\n",
       "      <td>1149.00</td>\n",
       "    </tr>\n",
       "  </tbody>\n",
       "</table>\n",
       "</div>"
      ],
      "text/plain": [
       "                                              Laptop Status   Brand  \\\n",
       "0  ASUS ExpertBook B1 B1502CBA-EJ0436X Intel Core...    New    Asus   \n",
       "1  Alurin Go Start Intel Celeron N4020/8GB/256GB ...    New  Alurin   \n",
       "2  ASUS ExpertBook B1 B1502CBA-EJ0424X Intel Core...    New    Asus   \n",
       "3  MSI Katana GF66 12UC-082XES Intel Core i7-1270...    New     MSI   \n",
       "4  HP 15S-FQ5085NS Intel Core i5-1235U/16GB/512GB...    New      HP   \n",
       "5  MSI Crosshair 17 C12VF-264XES Intel Core i7-12...    New     MSI   \n",
       "6  Lenovo Thinkpad E14 Gen 4 AMD Ryzen 5 5625U/8G...    New  Lenovo   \n",
       "7  ASUS VivoBook 15 F515JA-EJ2882W Intel Core i7-...    New    Asus   \n",
       "8  Medion Akoya E15415 Intel Core i5-10210U/8GB/2...    New  Medion   \n",
       "9  HP Victus 16-d1038ns Intel Core i7-12700H/16GB...    New      HP   \n",
       "\n",
       "        Model            CPU  RAM  Storage Storage type       GPU  Screen  \\\n",
       "0  ExpertBook  Intel Core i5    8      512          SSD       NaN    15.6   \n",
       "1          Go  Intel Celeron    8      256          SSD       NaN    15.6   \n",
       "2  ExpertBook  Intel Core i3    8      256          SSD       NaN    15.6   \n",
       "3      Katana  Intel Core i7   16     1000          SSD  RTX 3050    15.6   \n",
       "4         15S  Intel Core i5   16      512          SSD       NaN    15.6   \n",
       "5   Crosshair  Intel Core i7   32     1000          SSD  RTX 4060    17.3   \n",
       "6    ThinkPad    AMD Ryzen 5    8      256          SSD       NaN    14.0   \n",
       "7    VivoBook  Intel Core i7    8      512          SSD       NaN    15.6   \n",
       "8       Akoya  Intel Core i5    8      256          SSD       NaN    15.6   \n",
       "9      Victus  Intel Core i7   16      512          SSD  RTX 3050    16.1   \n",
       "\n",
       "  Touch  Final Price  \n",
       "0    No      1009.00  \n",
       "1    No       299.00  \n",
       "2    No       789.00  \n",
       "3    No      1199.00  \n",
       "4    No       669.01  \n",
       "5    No      1699.00  \n",
       "6    No       909.00  \n",
       "7    No       809.01  \n",
       "8    No       519.00  \n",
       "9    No      1149.00  "
      ]
     },
     "execution_count": 8,
     "metadata": {},
     "output_type": "execute_result"
    }
   ],
   "source": [
    "laptops.head(10)"
   ]
  },
  {
   "cell_type": "code",
   "execution_count": 9,
   "id": "0bd02169-b032-420f-b020-ae03ad688c2c",
   "metadata": {},
   "outputs": [],
   "source": [
    "dell_laptops = laptops[laptops['Brand'] =='Dell']"
   ]
  },
  {
   "cell_type": "code",
   "execution_count": 10,
   "id": "823ad977-8289-4d56-8418-16f2140d4677",
   "metadata": {},
   "outputs": [
    {
     "name": "stdout",
     "output_type": "stream",
     "text": [
      "84\n"
     ]
    }
   ],
   "source": [
    "print(dell_laptops.shape[0])"
   ]
  },
  {
   "cell_type": "code",
   "execution_count": 11,
   "id": "75aa633d-889a-4eb4-9bdc-c6a4c1478c0b",
   "metadata": {},
   "outputs": [
    {
     "name": "stdout",
     "output_type": "stream",
     "text": [
      "3936.0\n"
     ]
    }
   ],
   "source": [
    "print(dell_laptops['Final Price'].max())"
   ]
  },
  {
   "cell_type": "code",
   "execution_count": 12,
   "id": "34f96b80-3256-4d2b-995e-8026084d8a90",
   "metadata": {},
   "outputs": [
    {
     "name": "stdout",
     "output_type": "stream",
     "text": [
      "15.6\n"
     ]
    }
   ],
   "source": [
    "print(laptops['Screen'].median())"
   ]
  },
  {
   "cell_type": "code",
   "execution_count": 13,
   "id": "92c3c67a-5119-42d8-98e1-886b68943feb",
   "metadata": {},
   "outputs": [
    {
     "data": {
      "text/plain": [
       "0    15.6\n",
       "Name: Screen, dtype: float64"
      ]
     },
     "execution_count": 13,
     "metadata": {},
     "output_type": "execute_result"
    }
   ],
   "source": [
    "laptops['Screen'].mode()"
   ]
  },
  {
   "cell_type": "code",
   "execution_count": 14,
   "id": "08712c35-468e-4a2a-9145-c4554d7b2fa9",
   "metadata": {},
   "outputs": [
    {
     "data": {
      "text/plain": [
       "0       15.6\n",
       "1       15.6\n",
       "2       15.6\n",
       "3       15.6\n",
       "4       15.6\n",
       "        ... \n",
       "2155    17.3\n",
       "2156    17.3\n",
       "2157    17.3\n",
       "2158    13.4\n",
       "2159    13.4\n",
       "Name: Screen, Length: 2160, dtype: float64"
      ]
     },
     "execution_count": 14,
     "metadata": {},
     "output_type": "execute_result"
    }
   ],
   "source": [
    "laptops['Screen'].fillna(15.6)"
   ]
  },
  {
   "cell_type": "code",
   "execution_count": 15,
   "id": "1845ffea-2ac3-43ab-ae65-0f3857bc1179",
   "metadata": {},
   "outputs": [],
   "source": [
    "laptops = pd.read_csv(\"./data/laptops.csv\")"
   ]
  },
  {
   "cell_type": "code",
   "execution_count": 16,
   "id": "96c4b8dc-23b0-4fa1-b807-d0072584aa79",
   "metadata": {},
   "outputs": [
    {
     "data": {
      "text/plain": [
       "Laptop             0\n",
       "Status             0\n",
       "Brand              0\n",
       "Model              0\n",
       "CPU                0\n",
       "RAM                0\n",
       "Storage            0\n",
       "Storage type      42\n",
       "GPU             1371\n",
       "Screen             4\n",
       "Touch              0\n",
       "Final Price        0\n",
       "dtype: int64"
      ]
     },
     "execution_count": 16,
     "metadata": {},
     "output_type": "execute_result"
    }
   ],
   "source": [
    "laptops.isna().sum()"
   ]
  },
  {
   "cell_type": "code",
   "execution_count": 17,
   "id": "58566bc9-f594-4f7f-9845-b1aaa8ffcf3e",
   "metadata": {},
   "outputs": [
    {
     "name": "stdout",
     "output_type": "stream",
     "text": [
      "15.6\n"
     ]
    }
   ],
   "source": [
    "print(laptops['Screen'].median())"
   ]
  },
  {
   "cell_type": "code",
   "execution_count": 18,
   "id": "426c5ebd-5176-4be2-b783-f2dd483df41e",
   "metadata": {},
   "outputs": [
    {
     "name": "stdout",
     "output_type": "stream",
     "text": [
      "0    15.6\n",
      "Name: Screen, dtype: float64\n"
     ]
    }
   ],
   "source": [
    "print(laptops['Screen'].mode())"
   ]
  },
  {
   "cell_type": "code",
   "execution_count": 19,
   "id": "2f87ced7-0e4b-4e72-aea8-e7678e12ea89",
   "metadata": {},
   "outputs": [
    {
     "name": "stderr",
     "output_type": "stream",
     "text": [
      "/var/folders/c_/vcsqh30d2l3f9r5b6y0_w8n00000gn/T/ipykernel_51113/2590753201.py:1: FutureWarning: A value is trying to be set on a copy of a DataFrame or Series through chained assignment using an inplace method.\n",
      "The behavior will change in pandas 3.0. This inplace method will never work because the intermediate object on which we are setting values always behaves as a copy.\n",
      "\n",
      "For example, when doing 'df[col].method(value, inplace=True)', try using 'df.method({col: value}, inplace=True)' or df[col] = df[col].method(value) instead, to perform the operation inplace on the original object.\n",
      "\n",
      "\n",
      "  laptops['Screen'].fillna(15.6,inplace=True)\n"
     ]
    }
   ],
   "source": [
    "laptops['Screen'].fillna(15.6,inplace=True)"
   ]
  },
  {
   "cell_type": "code",
   "execution_count": 20,
   "id": "9d8aa6c8-9af7-4b3d-9b9e-179c89b873b1",
   "metadata": {},
   "outputs": [
    {
     "data": {
      "text/plain": [
       "Laptop             0\n",
       "Status             0\n",
       "Brand              0\n",
       "Model              0\n",
       "CPU                0\n",
       "RAM                0\n",
       "Storage            0\n",
       "Storage type      42\n",
       "GPU             1371\n",
       "Screen             0\n",
       "Touch              0\n",
       "Final Price        0\n",
       "dtype: int64"
      ]
     },
     "execution_count": 20,
     "metadata": {},
     "output_type": "execute_result"
    }
   ],
   "source": [
    "laptops.isna().sum()"
   ]
  },
  {
   "cell_type": "code",
   "execution_count": 21,
   "id": "80c304dc-7304-42b6-bdcd-ef5a4277be0c",
   "metadata": {},
   "outputs": [
    {
     "name": "stdout",
     "output_type": "stream",
     "text": [
      "15.6\n"
     ]
    }
   ],
   "source": [
    "print(laptops['Screen'].median())"
   ]
  },
  {
   "cell_type": "code",
   "execution_count": 22,
   "id": "88e39ac7-0fe3-46b0-8059-23522926688d",
   "metadata": {},
   "outputs": [],
   "source": [
    "innjoo_laptops = laptops[laptops['Brand']=='Innjoo']"
   ]
  },
  {
   "cell_type": "code",
   "execution_count": 23,
   "id": "ee98b235-c12d-49b9-8fdf-af4951b5ce88",
   "metadata": {},
   "outputs": [
    {
     "name": "stdout",
     "output_type": "stream",
     "text": [
      "1\n"
     ]
    }
   ],
   "source": [
    "print(innjoo_laptops[\"Brand\"].nunique())"
   ]
  },
  {
   "cell_type": "code",
   "execution_count": 24,
   "id": "f960073b-2a42-487f-9025-7eea8ccebc2f",
   "metadata": {},
   "outputs": [
    {
     "data": {
      "text/plain": [
       "array([[  8. , 256. ,  15.6],\n",
       "       [  8. , 512. ,  15.6],\n",
       "       [  4. ,  64. ,  14.1],\n",
       "       [  6. ,  64. ,  14.1],\n",
       "       [  6. , 128. ,  14.1],\n",
       "       [  6. , 128. ,  14.1]])"
      ]
     },
     "execution_count": 24,
     "metadata": {},
     "output_type": "execute_result"
    }
   ],
   "source": [
    "innjoo_selected_columns = innjoo_laptops[['RAM', 'Storage', 'Screen']]\n",
    "X = innjoo_selected_columns.to_numpy()\n",
    "X"
   ]
  },
  {
   "cell_type": "code",
   "execution_count": 25,
   "id": "bca98a95-ab80-4d5b-a87b-0546dff7484e",
   "metadata": {},
   "outputs": [],
   "source": [
    "import numpy as np"
   ]
  },
  {
   "cell_type": "code",
   "execution_count": null,
   "id": "52914650-80f5-4b0a-8e59-2f149f886bd8",
   "metadata": {},
   "outputs": [],
   "source": []
  },
  {
   "cell_type": "code",
   "execution_count": 26,
   "id": "b37dce76-3ec4-41ef-a5cf-22611f86be2e",
   "metadata": {},
   "outputs": [
    {
     "name": "stdout",
     "output_type": "stream",
     "text": [
      "[45.58076606  0.42783519 45.29127938]\n"
     ]
    },
    {
     "data": {
      "text/plain": [
       "91.2998806299593"
      ]
     },
     "execution_count": 26,
     "metadata": {},
     "output_type": "execute_result"
    }
   ],
   "source": [
    "X_T = X.T\n",
    "XTX = np.dot(X_T, X)\n",
    "XTX_inv = np.linalg.inv(XTX)\n",
    "y = np.array([1100, 1300, 800, 900, 1000, 1100])\n",
    "w = np.dot(XTX_inv, np.dot(X_T, y))\n",
    "\n",
    "print(w)\n",
    "np.sum(w)"
   ]
  }
 ],
 "metadata": {
  "kernelspec": {
   "display_name": "Python 3 (ipykernel)",
   "language": "python",
   "name": "python3"
  },
  "language_info": {
   "codemirror_mode": {
    "name": "ipython",
    "version": 3
   },
   "file_extension": ".py",
   "mimetype": "text/x-python",
   "name": "python",
   "nbconvert_exporter": "python",
   "pygments_lexer": "ipython3",
   "version": "3.11.9"
  }
 },
 "nbformat": 4,
 "nbformat_minor": 5
}
